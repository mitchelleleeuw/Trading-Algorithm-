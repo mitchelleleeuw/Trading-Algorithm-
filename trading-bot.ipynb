{
 "cells": [
  {
   "cell_type": "code",
   "execution_count": null,
   "id": "68b0740d",
   "metadata": {},
   "outputs": [],
   "source": []
  },
  {
   "cell_type": "code",
   "execution_count": 1,
   "id": "9a5cbbb4",
   "metadata": {},
   "outputs": [],
   "source": [
    "#pip install pycron"
   ]
  },
  {
   "cell_type": "code",
   "execution_count": 2,
   "id": "34c26218",
   "metadata": {},
   "outputs": [],
   "source": [
    "import numpy as np \n",
    "import pandas as pd \n",
    "import matplotlib.pyplot as plt \n",
    "import requests \n",
    "import yfinance as yf \n",
    "#import pycron \n",
    "import time \n",
    "from  datetime import datetime \n",
    "from pytz import timezone \n",
    "import json\n",
    "import pycron"
   ]
  },
  {
   "cell_type": "code",
   "execution_count": null,
   "id": "fb6d8fb8",
   "metadata": {},
   "outputs": [],
   "source": []
  },
  {
   "cell_type": "code",
   "execution_count": 3,
   "id": "c144cf4b",
   "metadata": {},
   "outputs": [],
   "source": [
    "#CONFIG = json.load(open(\"./config.json\")) # Loads the config file\n",
    "with open(\"C:\\\\Users\\\\MLeeuw\\\\Anaconda3\\\\Data Visualization\\\\Trading Algorithm\\\\config.json\") as f:\n",
    "    CONFIG=json.load(f)\n",
    "API_KEY, SECRET_KEY, BASE_URL = CONFIG[\"API_KEY\"], CONFIG[\"SECRET_KEY\"], CONFIG[\"BASE_URL\"]  #Sets Python variables with the config file values"
   ]
  },
  {
   "cell_type": "code",
   "execution_count": 4,
   "id": "0789df5d",
   "metadata": {},
   "outputs": [
    {
     "data": {
      "text/plain": [
       "{'API_KEY': 'PKJJRYBWP92U5N69FZCQ',\n",
       " 'SECRET_KEY': 'oKMCazSGRgMCVcXQLvdxu1F53v9PkwLjBV6tHIoz',\n",
       " 'BASE_URL': 'https://paper-api.alpaca.markets'}"
      ]
     },
     "execution_count": 4,
     "metadata": {},
     "output_type": "execute_result"
    }
   ],
   "source": [
    "CONFIG"
   ]
  },
  {
   "cell_type": "markdown",
   "id": "b3a886de",
   "metadata": {},
   "source": [
    "3. Inside our bot.py, we will create four methods that will encompass our core logic.\n",
    "\n",
    "\"buy_operation(ticker, quantity):\" This method will send a request to the Alpaca API to buy a specified quantity of stock. Feel free to take a look at the Alpaca documentation and write this function by yourself. If not, you can copy the implementation below to your bot.py file:"
   ]
  },
  {
   "cell_type": "code",
   "execution_count": 5,
   "id": "53b36bf0",
   "metadata": {},
   "outputs": [],
   "source": [
    "def buy_operation(ticker, quantity):\n",
    "  \"\"\"\n",
    "  send a POST request to \"/v2/orders\" to create a new order\n",
    "  :param ticker: stock ticker\n",
    "  :param quantity:  quantity to buy\n",
    "  :return: confirmation that the order to buy has been opened\n",
    "  \"\"\"\n",
    "  url = BASE_URL + \"/v2/orders\"\n",
    "  payload = json.dumps({\n",
    "      \"symbol\": ticker,\n",
    "      \"qty\": quantity,\n",
    "      \"side\": \"buy\",\n",
    "      \"type\": \"market\",\n",
    "      \"time_in_force\": \"day\"\n",
    "  })\n",
    "  headers = {\n",
    "      'APCA-API-KEY-ID': API_KEY,\n",
    "      'APCA-API-SECRET-KEY': SECRET_KEY,\n",
    "      'Content-Type': 'application/json'\n",
    "  }\n",
    "  return requests.request(\"POST\", url, headers=headers, data=payload).json()"
   ]
  },
  {
   "cell_type": "code",
   "execution_count": 6,
   "id": "2ec7f2ff",
   "metadata": {},
   "outputs": [],
   "source": [
    "def close_position(ticker):\n",
    "  \"\"\"\n",
    "  sends a DELETE request to \"/v2/positions/\" to liquidate an open position\n",
    "  :param ticker: stock ticker\n",
    "  :return: confirmation that the position has been closed\n",
    "  \"\"\"\n",
    "  url = BASE_URL + \"/v2/positions/\" + ticker\n",
    "\n",
    "  headers = {\n",
    "      'APCA-API-KEY-ID': API_KEY,\n",
    "      'APCA-API-SECRET-KEY': SECRET_KEY\n",
    "  }\n",
    "  return requests.request(\"DELETE\", url, headers=headers).json()"
   ]
  },
  {
   "cell_type": "code",
   "execution_count": 7,
   "id": "4e9133fd",
   "metadata": {},
   "outputs": [],
   "source": [
    "def get_positions():\n",
    "  \"\"\"\n",
    "  sends a GET request to \"/v2/positions\" and returns the current positions that are open in our account\n",
    "  :return: the positions that are held in the alpaca trading account\n",
    "  \"\"\"\n",
    "  url = BASE_URL + \"/v2/positions\"\n",
    "  headers = {\n",
    "      'APCA-API-KEY-ID': API_KEY,\n",
    "      'APCA-API-SECRET-KEY': SECRET_KEY,\n",
    "  }\n",
    "  return requests.request(\"GET\", url, headers=headers).json()"
   ]
  },
  {
   "cell_type": "code",
   "execution_count": 8,
   "id": "dc9e541a",
   "metadata": {},
   "outputs": [],
   "source": [
    "def get_moving_averages(ticker):\n",
    "  \"\"\"\n",
    "  calculates the 9 day and 30 days moving average of the specified ticker\n",
    "  :param ticker: stock ticker\n",
    "  :return: returns (9 days moving average, 30 days moving average)\n",
    "  \"\"\"\n",
    "  data = yf.download(ticker, period=\"3mo\", interval='1d')  # Download the last 3months worht of data for the ticker\n",
    "  data['SMA_9'] = data['Close'].rolling(window=9, min_periods=1).mean()   # Compute a 9-day Simple Moving Average with pandas\n",
    "  data['SMA_30'] = data['Close'].rolling(window=30, min_periods=1).mean()  # Compute a 30-day Simple Moving Average with pandas\n",
    "  SMA_9 = float(data.tail(1)[\"SMA_9\"])  # Get the latest calculated 9 days Simple Moving Average\n",
    "  SMA_30 = float(data.tail(1)[\"SMA_30\"]) # Get the latest 30 days Simple Moving Average\n",
    "  return SMA_9, SMA_30"
   ]
  },
  {
   "cell_type": "code",
   "execution_count": null,
   "id": "c2279b1e",
   "metadata": {},
   "outputs": [
    {
     "name": "stdout",
     "output_type": "stream",
     "text": [
      "Starting the trading algo\n"
     ]
    }
   ],
   "source": [
    "if __name__ == \"__main__\":\n",
    "    print(\"Starting the trading algo\")\n",
    "    while True:\n",
    "        if pycron.is_now('30 9-15 * * 1-5', dt=datetime.now(timezone('EST'))):  \n",
    "            ticker = \"SPY\"\n",
    "            SMA_9, SMA_30 = get_moving_averages(ticker)\n",
    "            if SMA_9 > SMA_30:# We should buy if we don't alreatf.dy own the stock\n",
    "                if ticker not in [i[\"symbol\"] for i in get_positions()]:\n",
    "                    print(\"Currently buying\", ticker)\n",
    "                    buy_operation(ticker, 1)\n",
    "            if SMA_9 < SMA_30:# We should liquidate our position if we own the stock\n",
    "                if ticker in [i[\"symbol\"] for i in get_positions()]:\n",
    "                    print(\"Currently liquidating our\", ticker, \"position\")\n",
    "                    close_position(ticker)\n",
    "            time.sleep(60) # Making sure we don't run the logic twice in a minute\n",
    "        else:\n",
    "            time.sleep(20)  # Check again in 20 seconds"
   ]
  },
  {
   "cell_type": "code",
   "execution_count": null,
   "id": "958ef795",
   "metadata": {},
   "outputs": [],
   "source": [
    "#pip3 install requests yfinance pycron"
   ]
  },
  {
   "cell_type": "code",
   "execution_count": null,
   "id": "29c42fb0",
   "metadata": {},
   "outputs": [],
   "source": [
    "#cd trading-bot"
   ]
  },
  {
   "cell_type": "code",
   "execution_count": null,
   "id": "cb4f8008",
   "metadata": {},
   "outputs": [],
   "source": [
    "#python3 bot.py"
   ]
  },
  {
   "cell_type": "code",
   "execution_count": null,
   "id": "a3fd552c",
   "metadata": {},
   "outputs": [],
   "source": []
  }
 ],
 "metadata": {
  "kernelspec": {
   "display_name": "Python 3 (ipykernel)",
   "language": "python",
   "name": "python3"
  },
  "language_info": {
   "codemirror_mode": {
    "name": "ipython",
    "version": 3
   },
   "file_extension": ".py",
   "mimetype": "text/x-python",
   "name": "python",
   "nbconvert_exporter": "python",
   "pygments_lexer": "ipython3",
   "version": "3.9.7"
  }
 },
 "nbformat": 4,
 "nbformat_minor": 5
}
